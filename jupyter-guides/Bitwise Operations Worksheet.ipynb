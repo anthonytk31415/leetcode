{
 "cells": [
  {
   "cell_type": "markdown",
   "id": "b9093e82",
   "metadata": {},
   "source": [
    "Python: \n",
    "The Operators: \n",
    "\n",
    "x << y\n",
    "Returns x with the bits shifted to the left by y places (and new bits on the right-hand-side are zeros). This is the same as multiplying x by 2**y.\n",
    "\n",
    "x >> y\n",
    "Returns x with the bits shifted to the right by y places. This is the same as //'ing x by 2**y.\n",
    "\n",
    "x & y\n",
    "Does a \"bitwise and\". Each bit of the output is 1 if the corresponding bit of x AND of y is 1, otherwise it's 0.\n",
    "\n",
    "x | y\n",
    "Does a \"bitwise or\". Each bit of the output is 0 if the corresponding bit of x AND of y is 0, otherwise it's 1.\n",
    "\n",
    "~ x\n",
    "Returns the complement of x - the number you get by switching each 1 for a 0 and each 0 for a 1. This is the same as -x - 1.\n",
    "\n",
    "x ^ y\n",
    "Does a \"bitwise exclusive or\". Each bit of the output is the same as the corresponding bit in x if that bit in y is 0, and it's the complement of the bit in x if that bit in y is 1."
   ]
  },
  {
   "cell_type": "code",
   "execution_count": 11,
   "id": "790896ab",
   "metadata": {},
   "outputs": [
    {
     "name": "stdout",
     "output_type": "stream",
     "text": [
      "0b100\n",
      "0b11\n"
     ]
    }
   ],
   "source": [
    "x = 4\n",
    "y = 3\n",
    "\n",
    "print(bin(x))\n",
    "print(bin(y))"
   ]
  },
  {
   "cell_type": "code",
   "execution_count": 12,
   "id": "e5599b01",
   "metadata": {},
   "outputs": [
    {
     "data": {
      "text/plain": [
       "0"
      ]
     },
     "execution_count": 12,
     "metadata": {},
     "output_type": "execute_result"
    }
   ],
   "source": [
    "x & y"
   ]
  },
  {
   "cell_type": "code",
   "execution_count": 42,
   "id": "47a62ccd",
   "metadata": {},
   "outputs": [
    {
     "name": "stdout",
     "output_type": "stream",
     "text": [
      "x: 17, bit of x: 0b10001, bitmask of x: 0b11111\n",
      "unsigned Not of x: -0b10010\n",
      "bitwise not of x:  0b1110\n"
     ]
    }
   ],
   "source": [
    "# to transform 1001 -> 0110, we perform a Bitwise Not \n",
    "\n",
    "# ~x is the signed bitwise not in python, but be careful\n",
    "# Because of signed bit representations in python, to get Bitwise Not, \n",
    "# we do ~x & bitmask\n",
    "\n",
    "# bitmask of the same length as the x = 2 ^ n - 1 for n places of bit(x)\n",
    "# x.bit_length()\n",
    "\n",
    "x = 17\n",
    "\n",
    "print(\"x: {}, bit of x: {}, bitmask of x: {}\".format(x, bin(x), bin(2**x.bit_length() - 1)))\n",
    "print(\"unsigned Not of x: {}\".format(bin(~x)))\n",
    "\n",
    "print(\"bitwise not of x: \", bin(~x & (2**x.bit_length() - 1)))\n",
    "\n",
    "\n"
   ]
  },
  {
   "cell_type": "code",
   "execution_count": 35,
   "id": "6fb56494",
   "metadata": {},
   "outputs": [
    {
     "name": "stdout",
     "output_type": "stream",
     "text": [
      "0b101010\n",
      "6\n"
     ]
    }
   ],
   "source": [
    "x = 42\n",
    "print(bin(42))\n",
    "print((42).bit_length())"
   ]
  },
  {
   "cell_type": "code",
   "execution_count": 94,
   "id": "8afe9751",
   "metadata": {},
   "outputs": [
    {
     "name": "stdout",
     "output_type": "stream",
     "text": [
      "bit of x:  0b101010\n",
      "first digit of x:  0b0\n",
      "not of the first digit of x:  0b1\n",
      "0b101010 0b10101 0b101010\n",
      "0b101011\n",
      "x:  0b100010\n",
      "bitmask of x:  0b111111\n",
      "x changed last bit: 0b100011\n"
     ]
    }
   ],
   "source": [
    "# Practice: How do we change the rightmost bit digit of a number to 1? \n",
    "\n",
    "# (0) get first digit by doing x & 1 (which is 2^0*1)\n",
    "x = 42\n",
    "print(\"bit of x: \", bin(x))\n",
    "print(\"first digit of x: \", bin(x & 1))\n",
    "\n",
    "# (1) then let's take its do unsigned & bitmask of length 1 to find the bitwise not of the digit\n",
    "print(\"not of the first digit of x: \", bin(~(x & 1) & 1))\n",
    "\n",
    "# (2) remove the last bin with right shift 1, then left shift one to make it 0\n",
    "print(bin(x), bin(x >> 1), bin((x >> 1)<<1))\n",
    "\n",
    "removedLast = (x >> 1)<<1\n",
    "notLast = ~(x & 1) & 1\n",
    "# then do or operation on (1) and (2)\n",
    "print(bin(removedLast | notLast))\n",
    "\n",
    "\n"
   ]
  },
  {
   "cell_type": "code",
   "execution_count": null,
   "id": "d1cf6a8d",
   "metadata": {},
   "outputs": [],
   "source": [
    "# given a number x, return a bitmask of the same length\n",
    "def bitMask(x):\n",
    "    length = x.bit_length()\n",
    "    return (1 << length) - 1\n",
    "\n",
    "\n",
    "x = 34\n",
    "print(\"x: \", bin(x))\n",
    "print(\"bitmask of x: \", bin(bitMask(x)))\n",
    "print(\"x changed last bit:\", bin(changeLastBit(x)))\n"
   ]
  },
  {
   "cell_type": "code",
   "execution_count": 126,
   "id": "0a4793c5",
   "metadata": {},
   "outputs": [
    {
     "name": "stdout",
     "output_type": "stream",
     "text": [
      "0b100101\n",
      "1\n"
     ]
    }
   ],
   "source": [
    "\n",
    "def changeLastBit(x):\n",
    "    x_lastBit = x & 1\n",
    "    bitWise_x_lastBit = ~x_lastBit & 1\n",
    "    return ((x >> 1)<< 1) | bitWise_x_lastBit\n",
    "\n",
    "# returns position of the first 1 from right to left of a bit representation\n",
    "def findFirstOne(x):\n",
    "    count = 0\n",
    "    n = 1\n",
    "    while x & (n << count) == 0: \n",
    "        count += 1\n",
    "    return count + 1\n",
    "\n",
    "def changePastFirstOne(x):\n",
    "    firstOnePosition = findFirstOne(x)    \n",
    "    # take x, shift to 1 more than first one position, change last bit, shift left one \n",
    "    bitAfterFirst = (changeLastBit(x >> firstOnePosition) << 1 | 1) << firstOnePosition - 1\n",
    "    return bitAfterFirst\n",
    "\n",
    "x = 37\n",
    "print(bin(x))\n",
    "print(findFirstOne(x))"
   ]
  },
  {
   "cell_type": "code",
   "execution_count": 120,
   "id": "b873d2dd",
   "metadata": {},
   "outputs": [
    {
     "name": "stdout",
     "output_type": "stream",
     "text": [
      "0b100101\n",
      "0b100111\n"
     ]
    }
   ],
   "source": [
    "\n",
    "    \n",
    "    \n",
    "x = 37\n",
    "print(bin(x))\n",
    "print(bin(changePastFirstOne(x)))\n",
    "    \n",
    "    "
   ]
  },
  {
   "cell_type": "code",
   "execution_count": 127,
   "id": "b30e7d89",
   "metadata": {},
   "outputs": [
    {
     "name": "stdout",
     "output_type": "stream",
     "text": [
      "4\n"
     ]
    }
   ],
   "source": [
    "def numOperations(x):\n",
    "    z = 0\n",
    "    changeLast = True\n",
    "    numOperations = 0\n",
    "    while z != x: \n",
    "        if changeLast: \n",
    "            z = changeLastBit(z)\n",
    "        else: \n",
    "            z = changePastFirstOne(z)\n",
    "        \n",
    "        changeLast = not changeLast\n",
    "        numOperations += 1\n",
    "    return numOperations\n",
    "\n",
    "x = 6\n",
    "print(numOperations(x))"
   ]
  },
  {
   "cell_type": "code",
   "execution_count": null,
   "id": "25365659",
   "metadata": {},
   "outputs": [],
   "source": []
  },
  {
   "cell_type": "code",
   "execution_count": 86,
   "id": "c8825731",
   "metadata": {},
   "outputs": [
    {
     "name": "stdout",
     "output_type": "stream",
     "text": [
      "x: 256, bit x: 0b100000000\n",
      "count 8\n"
     ]
    }
   ],
   "source": [
    "# Practice: How do you find the first 1 from right to left in a binary representation? \n",
    "\n",
    "# start with 1, which has a n = 0th position of 1. if x & 1 == 0, then that means there's no common 1. Then \n",
    "# left shift 1 by 1. and iterate until x & (1 <<n ) != 0\n",
    "\n",
    "x = 256\n",
    "print(\"x: {}, bit x: {}\".format(x, bin(x)))\n",
    "\n",
    "count = 0\n",
    "comp = 1 << count\n",
    "# print(count, bin(comp), bin(comp & x))\n",
    "while True: \n",
    "    comp = 1 << count\n",
    "    if x & comp != 0: \n",
    "        print(\"count\", count)\n",
    "        break\n",
    "    count += 1\n"
   ]
  },
  {
   "cell_type": "code",
   "execution_count": 136,
   "id": "30c5bf6f",
   "metadata": {},
   "outputs": [
    {
     "name": "stdout",
     "output_type": "stream",
     "text": [
      "0b110\n",
      "-0b110\n"
     ]
    }
   ],
   "source": [
    "x = 6\n",
    "print(bin(x))\n",
    "print(bin(-x))"
   ]
  },
  {
   "cell_type": "code",
   "execution_count": 137,
   "id": "78d38fae",
   "metadata": {},
   "outputs": [
    {
     "data": {
      "text/plain": [
       "'0b10'"
      ]
     },
     "execution_count": 137,
     "metadata": {},
     "output_type": "execute_result"
    }
   ],
   "source": [
    "bin(x & -x)"
   ]
  },
  {
   "cell_type": "code",
   "execution_count": 142,
   "id": "70849f00",
   "metadata": {},
   "outputs": [
    {
     "name": "stdout",
     "output_type": "stream",
     "text": [
      "0b1\n",
      "0b0\n"
     ]
    }
   ],
   "source": [
    "print(bin(1))\n",
    "print(bin(-1 + 1))"
   ]
  },
  {
   "cell_type": "code",
   "execution_count": null,
   "id": "6242b783",
   "metadata": {},
   "outputs": [],
   "source": [
    "print()"
   ]
  },
  {
   "cell_type": "code",
   "execution_count": 156,
   "id": "8f24bfda",
   "metadata": {},
   "outputs": [
    {
     "name": "stdout",
     "output_type": "stream",
     "text": [
      "0b111\n",
      "-0b1000\n",
      "-0b111\n",
      "0b1\n"
     ]
    }
   ],
   "source": [
    "x = 7\n",
    "print(bin(x))\n",
    "print(bin(~x))\n",
    "print(bin(~x + 1))\n",
    "print(bin(x & (~x + 1)))"
   ]
  },
  {
   "cell_type": "code",
   "execution_count": 159,
   "id": "52bf3114",
   "metadata": {},
   "outputs": [
    {
     "data": {
      "text/plain": [
       "'0b111'"
      ]
     },
     "execution_count": 159,
     "metadata": {},
     "output_type": "execute_result"
    }
   ],
   "source": [
    "bin(7)"
   ]
  },
  {
   "cell_type": "code",
   "execution_count": null,
   "id": "e846f0a9",
   "metadata": {},
   "outputs": [],
   "source": []
  },
  {
   "cell_type": "code",
   "execution_count": 162,
   "id": "30c56fd6",
   "metadata": {},
   "outputs": [
    {
     "data": {
      "text/plain": [
       "1"
      ]
     },
     "execution_count": 162,
     "metadata": {},
     "output_type": "execute_result"
    }
   ],
   "source": [
    "0 ^ 1"
   ]
  },
  {
   "cell_type": "code",
   "execution_count": null,
   "id": "a0ab2c91",
   "metadata": {},
   "outputs": [],
   "source": [
    "# i want 10\n"
   ]
  },
  {
   "cell_type": "code",
   "execution_count": null,
   "id": "3db21552",
   "metadata": {},
   "outputs": [],
   "source": []
  }
 ],
 "metadata": {
  "kernelspec": {
   "display_name": "Python [conda env:root] *",
   "language": "python",
   "name": "conda-root-py"
  },
  "language_info": {
   "codemirror_mode": {
    "name": "ipython",
    "version": 3
   },
   "file_extension": ".py",
   "mimetype": "text/x-python",
   "name": "python",
   "nbconvert_exporter": "python",
   "pygments_lexer": "ipython3",
   "version": "3.11.5"
  }
 },
 "nbformat": 4,
 "nbformat_minor": 5
}
