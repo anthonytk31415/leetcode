{
 "cells": [
  {
   "cell_type": "markdown",
   "id": "e909634c",
   "metadata": {},
   "source": [
    "Python: \n",
    "The Operators: \n",
    "\n",
    "x << y\n",
    "Returns x with the bits shifted to the left by y places (and new bits on the right-hand-side are zeros). This is the same as multiplying x by 2**y.\n",
    "\n",
    "x >> y\n",
    "Returns x with the bits shifted to the right by y places. This is the same as //'ing x by 2**y.\n",
    "\n",
    "x & y\n",
    "Does a \"bitwise and\". Each bit of the output is 1 if the corresponding bit of x AND of y is 1, otherwise it's 0.\n",
    "\n",
    "x | y\n",
    "Does a \"bitwise or\". Each bit of the output is 0 if the corresponding bit of x AND of y is 0, otherwise it's 1.\n",
    "\n",
    "~ x\n",
    "Returns the complement of x - the number you get by switching each 1 for a 0 and each 0 for a 1. This is the same as -x - 1.\n",
    "\n",
    "x ^ y\n",
    "Does a \"bitwise exclusive or\". Each bit of the output is the same as the corresponding bit in x if that bit in y is 0, and it's the complement of the bit in x if that bit in y is 1."
   ]
  },
  {
   "cell_type": "code",
   "execution_count": 11,
   "id": "f83ec827",
   "metadata": {},
   "outputs": [
    {
     "name": "stdout",
     "output_type": "stream",
     "text": [
      "0b100\n",
      "0b11\n"
     ]
    }
   ],
   "source": [
    "x = 4\n",
    "y = 3\n",
    "\n",
    "print(bin(x))\n",
    "print(bin(y))"
   ]
  },
  {
   "cell_type": "code",
   "execution_count": 12,
   "id": "79070749",
   "metadata": {},
   "outputs": [
    {
     "data": {
      "text/plain": [
       "0"
      ]
     },
     "execution_count": 12,
     "metadata": {},
     "output_type": "execute_result"
    }
   ],
   "source": [
    "x & y"
   ]
  },
  {
   "cell_type": "code",
   "execution_count": 15,
   "id": "6a90f968",
   "metadata": {},
   "outputs": [
    {
     "data": {
      "text/plain": [
       "-5"
      ]
     },
     "execution_count": 15,
     "metadata": {},
     "output_type": "execute_result"
    }
   ],
   "source": [
    "~x"
   ]
  }
 ],
 "metadata": {
  "kernelspec": {
   "display_name": "Python [conda env:root] *",
   "language": "python",
   "name": "conda-root-py"
  },
  "language_info": {
   "codemirror_mode": {
    "name": "ipython",
    "version": 3
   },
   "file_extension": ".py",
   "mimetype": "text/x-python",
   "name": "python",
   "nbconvert_exporter": "python",
   "pygments_lexer": "ipython3",
   "version": "3.11.5"
  }
 },
 "nbformat": 4,
 "nbformat_minor": 5
}
