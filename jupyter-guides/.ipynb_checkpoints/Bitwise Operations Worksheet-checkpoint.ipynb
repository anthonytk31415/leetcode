{
 "cells": [
  {
   "cell_type": "markdown",
   "id": "b9093e82",
   "metadata": {},
   "source": [
    "Python: \n",
    "The Operators: \n",
    "\n",
    "x << y\n",
    "Returns x with the bits shifted to the left by y places (and new bits on the right-hand-side are zeros). This is the same as multiplying x by 2**y.\n",
    "\n",
    "x >> y\n",
    "Returns x with the bits shifted to the right by y places. This is the same as //'ing x by 2**y.\n",
    "\n",
    "x & y\n",
    "Does a \"bitwise and\". Each bit of the output is 1 if the corresponding bit of x AND of y is 1, otherwise it's 0.\n",
    "\n",
    "x | y\n",
    "Does a \"bitwise or\". Each bit of the output is 0 if the corresponding bit of x AND of y is 0, otherwise it's 1.\n",
    "\n",
    "~ x\n",
    "Returns the complement of x - the number you get by switching each 1 for a 0 and each 0 for a 1. This is the same as -x - 1.\n",
    "\n",
    "x ^ y\n",
    "Does a \"bitwise exclusive or\". Each bit of the output is the same as the corresponding bit in x if that bit in y is 0, and it's the complement of the bit in x if that bit in y is 1."
   ]
  },
  {
   "cell_type": "code",
   "execution_count": 11,
   "id": "790896ab",
   "metadata": {},
   "outputs": [
    {
     "name": "stdout",
     "output_type": "stream",
     "text": [
      "0b100\n",
      "0b11\n"
     ]
    }
   ],
   "source": [
    "x = 4\n",
    "y = 3\n",
    "\n",
    "print(bin(x))\n",
    "print(bin(y))"
   ]
  },
  {
   "cell_type": "code",
   "execution_count": 12,
   "id": "e5599b01",
   "metadata": {},
   "outputs": [
    {
     "data": {
      "text/plain": [
       "0"
      ]
     },
     "execution_count": 12,
     "metadata": {},
     "output_type": "execute_result"
    }
   ],
   "source": [
    "x & y"
   ]
  },
  {
   "cell_type": "code",
   "execution_count": 42,
   "id": "47a62ccd",
   "metadata": {},
   "outputs": [
    {
     "name": "stdout",
     "output_type": "stream",
     "text": [
      "x: 17, bit of x: 0b10001, bitmask of x: 0b11111\n",
      "unsigned Not of x: -0b10010\n",
      "bitwise not of x:  0b1110\n"
     ]
    }
   ],
   "source": [
    "# to transform 1001 -> 0110, we perform a Bitwise Not \n",
    "\n",
    "# ~x is the signed bitwise not in python, but be careful\n",
    "# Because of signed bit representations in python, to get Bitwise Not, \n",
    "# we do ~x & bitmask\n",
    "\n",
    "# bitmask of the same length as the x = 2 ^ n - 1 for n places of bit(x)\n",
    "# x.bit_length()\n",
    "\n",
    "x = 17\n",
    "\n",
    "print(\"x: {}, bit of x: {}, bitmask of x: {}\".format(x, bin(x), bin(2**x.bit_length() - 1)))\n",
    "print(\"unsigned Not of x: {}\".format(bin(~x)))\n",
    "\n",
    "print(\"bitwise not of x: \", bin(~x & (2**x.bit_length() - 1)))\n",
    "\n",
    "\n"
   ]
  },
  {
   "cell_type": "code",
   "execution_count": 35,
   "id": "6fb56494",
   "metadata": {},
   "outputs": [
    {
     "name": "stdout",
     "output_type": "stream",
     "text": [
      "0b101010\n",
      "6\n"
     ]
    }
   ],
   "source": [
    "x = 42\n",
    "print(bin(42))\n",
    "print((42).bit_length())"
   ]
  },
  {
   "cell_type": "code",
   "execution_count": 91,
   "id": "b07cbd7c",
   "metadata": {},
   "outputs": [
    {
     "name": "stdout",
     "output_type": "stream",
     "text": [
      "bit of x:  0b101010\n",
      "first digit of x:  0b0\n",
      "not of the first digit of x:  0b1\n",
      "0b101010 0b10101 0b101010\n",
      "0b101011\n",
      "0b100010\n",
      "0b111111\n",
      "0b100011\n"
     ]
    }
   ],
   "source": [
    "# Practice: How do we change the rightmost bit digit of a number to 1? \n",
    "\n",
    "# (0) get first digit by doing x & 1 (which is 2^0*1)\n",
    "x = 42\n",
    "print(\"bit of x: \", bin(x))\n",
    "print(\"first digit of x: \", bin(x & 1))\n",
    "\n",
    "# (1) then let's take its do unsigned & bitmask of length 1 to find the bitwise not of the digit\n",
    "print(\"not of the first digit of x: \", bin(~(x & 1) & 1))\n",
    "\n",
    "# (2) remove the last bin with right shift 1, then left shift one to make it 0\n",
    "print(bin(x), bin(x >> 1), bin((x >> 1)<<1))\n",
    "\n",
    "removedLast = (x >> 1)<<1\n",
    "notLast = ~(x & 1) & 1\n",
    "# then do or operation on (1) and (2)\n",
    "print(bin(removedLast | notLast))\n",
    "\n",
    "# given a number x, return a bitmask of the same length\n",
    "def bitMask(x):\n",
    "    length = x.bit_length()\n",
    "    return (1 << length) - 1\n",
    "\n",
    "def changeLastBit(x):\n",
    "    x_lastBit = x & 1\n",
    "    bitWise_x_lastBit = ~x_lastBit & 1\n",
    "    return ((x >> 1)<< 1) | bitWise_x_lastBit\n",
    "\n",
    "x = 34\n",
    "print(\"x: \"bin(x))\n",
    "print(bin(bitMask(x)))\n",
    "print(bin(changeLastBit(x)))\n",
    "\n"
   ]
  },
  {
   "cell_type": "code",
   "execution_count": 86,
   "id": "2805ab7b",
   "metadata": {},
   "outputs": [
    {
     "name": "stdout",
     "output_type": "stream",
     "text": [
      "x: 256, bit x: 0b100000000\n",
      "count 8\n"
     ]
    }
   ],
   "source": [
    "# Practice: How do you find the first 1 from right to left in a binary representation? \n",
    "\n",
    "# start with 1, which has a n = 0th position of 1. if x & 1 == 0, then that means there's no common 1. Then \n",
    "# left shift 1 by 1. and iterate until x & (1 <<n ) != 0\n",
    "\n",
    "x = 256\n",
    "print(\"x: {}, bit x: {}\".format(x, bin(x)))\n",
    "\n",
    "count = 0\n",
    "comp = 1 << count\n",
    "# print(count, bin(comp), bin(comp & x))\n",
    "while True: \n",
    "    comp = 1 << count\n",
    "    if x & comp != 0: \n",
    "        print(\"count\", count)\n",
    "        break\n",
    "    count += 1\n"
   ]
  },
  {
   "cell_type": "code",
   "execution_count": null,
   "id": "ce1e61ac",
   "metadata": {},
   "outputs": [],
   "source": []
  },
  {
   "cell_type": "code",
   "execution_count": null,
   "id": "8e4ec6b1",
   "metadata": {},
   "outputs": [],
   "source": []
  }
 ],
 "metadata": {
  "kernelspec": {
   "display_name": "Python [conda env:root] *",
   "language": "python",
   "name": "conda-root-py"
  },
  "language_info": {
   "codemirror_mode": {
    "name": "ipython",
    "version": 3
   },
   "file_extension": ".py",
   "mimetype": "text/x-python",
   "name": "python",
   "nbconvert_exporter": "python",
   "pygments_lexer": "ipython3",
   "version": "3.11.5"
  }
 },
 "nbformat": 4,
 "nbformat_minor": 5
}
